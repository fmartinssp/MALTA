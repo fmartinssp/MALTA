{
 "cells": [
  {
   "cell_type": "code",
   "execution_count": null,
   "id": "e9a1587c",
   "metadata": {},
   "outputs": [],
   "source": [
    "from sklearn.metrics import precision_recall_fscore_support\n",
    "import scipy.stats as st\n",
    "\n",
    "#Function for calculating the root mean square error\n",
    "def rmse(predictions, targets):\n",
    "    return np.sqrt(((predictions - targets) ** 2).mean())\n",
    "\n",
    "#Function for calculating precision, recall, f1 score and support metrics\n",
    "def classifier_metrics(y_valid, predict):\n",
    "    return precision_recall_fscore_support(y_valid, predict, average=None) \n",
    "\n",
    "#Function for calculating mean f1 score\n",
    "def mean_fscore(fscore):\n",
    "    return sum(fscore)/len(fscore)\n",
    "\n",
    "#Function for calculating confidence interval from cross-validation\n",
    "def interval_confidence(values):\n",
    "    return st.t.interval(alpha=0.95, df=len(values)-1, loc=np.mean(values), scale=st.sem(values))\n"
   ]
  }
 ],
 "metadata": {
  "kernelspec": {
   "display_name": "Python 3",
   "language": "python",
   "name": "python3"
  },
  "language_info": {
   "codemirror_mode": {
    "name": "ipython",
    "version": 3
   },
   "file_extension": ".py",
   "mimetype": "text/x-python",
   "name": "python",
   "nbconvert_exporter": "python",
   "pygments_lexer": "ipython3",
   "version": "3.8.8"
  }
 },
 "nbformat": 4,
 "nbformat_minor": 5
}
