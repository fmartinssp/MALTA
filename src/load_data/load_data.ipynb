{
 "cells": [
  {
   "cell_type": "code",
   "execution_count": 23,
   "id": "d1fbfcb2",
   "metadata": {},
   "outputs": [],
   "source": [
    "import pandas as pd\n",
    "\n",
    "#This method receives a filename, a delimiter-separated format and returns a dataframe\n",
    "def load_dataset(filename,delimiter, encode):\n",
    "    data = pd.read_csv(filename, delimiter=delimiter, skipinitialspace=True, encoding= encode, error_bad_lines=False, engine ='python')\n",
    "    return data"
   ]
  }
 ],
 "metadata": {
  "kernelspec": {
   "display_name": "Python 3",
   "language": "python",
   "name": "python3"
  },
  "language_info": {
   "codemirror_mode": {
    "name": "ipython",
    "version": 3
   },
   "file_extension": ".py",
   "mimetype": "text/x-python",
   "name": "python",
   "nbconvert_exporter": "python",
   "pygments_lexer": "ipython3",
   "version": "3.8.8"
  }
 },
 "nbformat": 4,
 "nbformat_minor": 5
}
