{
 "cells": [
  {
   "cell_type": "markdown",
   "id": "f5c300ab",
   "metadata": {},
   "source": [
    "# Getting Started"
   ]
  },
  {
   "cell_type": "markdown",
   "id": "ed1d2300",
   "metadata": {},
   "source": [
    "To run the code below you must install packages:\n",
    "\n",
    "- rpy2 module (pip install rpy2)\n",
    "\n",
    "- missingno module (pip install missingno)\n",
    "\n",
    "- imputena module (pip install imputena)\n",
    "\n",
    "- missingpy module (pip install missingpy)\n",
    "\n",
    "- gcimpute module (pip install gcimpute)\n",
    "\n",
    "- scikit-learn module (pip install sklearn)\n",
    "\n",
    "- torch module (pip install torch)\n",
    "\n",
    "- keras module (pip install keras)\n",
    "\n",
    "- tensorflow module (pip install tensorflow)\n",
    "\n",
    "- python-utils module (pip install python-utils)\n",
    "\n",
    "- R Package (https://cran.r-project.org/bin/windows/base/). I suggest install RStudio (https://www.rstudio.com/products/rstudio/download/)\n",
    "\n",
    "- Naniar package (https://cran.r-project.org/web/packages/naniar/index.html)\n"
   ]
  },
  {
   "cell_type": "markdown",
   "id": "48c7c4f1",
   "metadata": {},
   "source": [
    "### Load and run packages"
   ]
  },
  {
   "cell_type": "code",
   "execution_count": null,
   "id": "a2c073dc",
   "metadata": {},
   "outputs": [],
   "source": [
    "import warnings\n",
    "warnings.filterwarnings(\"ignore\")\n",
    "\n",
    "#You should set you R Path here\n",
    "import os\n",
    "os.environ['R_HOME'] = 'C:\\Program Files\\R\\R-4.2.1'\n",
    "from IPython import display\n",
    "import sys\n",
    "import sklearn.neighbors._base\n",
    "sys.modules['sklearn.neighbors.base'] = sklearn.neighbors._base\n",
    "\n",
    "%run load_data/load_data.ipynb\n",
    "%run missing_data_generation/missing_values_generator.ipynb\n",
    "%run visualization/missing_data_visualization.ipynb\n",
    "%run missing_mechanism_detection/little_test.ipynb\n",
    "%run missing_mechanism_detection/dixon_test.ipynb\n",
    "%run missing_mechanism_detection/homoscedasticity_test.ipynb\n",
    "%run missing_mechanism_detection/rb_test.ipynb\n",
    "%run imputation/imputation_methods.ipynb\n",
    "%run classifiers/classifiers.ipynb\n",
    "display.clear_output(wait=True)"
   ]
  },
  {
   "cell_type": "markdown",
   "id": "fcffe14b",
   "metadata": {},
   "source": [
    "### Set filename and load dataset"
   ]
  },
  {
   "cell_type": "code",
   "execution_count": null,
   "id": "9075cd2f",
   "metadata": {
    "scrolled": true
   },
   "outputs": [],
   "source": [
    "# Get the dataset file\n",
    "filename = input('Enter the path and name of the .csv file (Ex.: \"C:\\Anaconda\\Scripst\\dataset.csv\"): ')"
   ]
  },
  {
   "cell_type": "code",
   "execution_count": null,
   "id": "ff9fb479",
   "metadata": {},
   "outputs": [],
   "source": [
    "# Load dataset\n",
    "import chardet\n",
    "%run load_data/load_data.ipynb\n",
    "delimiter = \";\" #Change the delimiter if necessary\n",
    "with open(filename, 'rb') as f:\n",
    "    data = f.read()\n",
    "    encode = chardet.detect(data)['encoding']\n",
    "\n",
    "#encode = \"UTF-8\"\n",
    "original_data = load_dataset(filename,delimiter, encode)\n",
    "\n",
    "# Convert entire DataFrame string to float\n",
    "#original_data = original_data.astype(float)\n",
    "\n",
    "#Let's separate the class labels to generate the missings and imputations\n",
    "#Get the input features\n",
    "columns = original_data.columns\n",
    "class_name = columns[-1] #Get name of the last column (class)\n",
    "columns_tmp = list(columns)\n",
    "columns_tmp.remove(class_name)\n",
    "\n",
    "data_x =original_data.iloc[:, 0:original_data.shape[1]-1].values #Predictive attributes\n",
    "data_y = original_data.iloc[:, -1].values #Class attribute\n",
    "X = pd.DataFrame(data_x, columns = columns_tmp) #Get a pandas dataframe from data (predictive attributes)\n",
    "y = pd.DataFrame(data_y, columns = [class_name]) #Get a pandas dataframe from data (class attribute)"
   ]
  },
  {
   "cell_type": "markdown",
   "id": "e0a3dc32",
   "metadata": {},
   "source": [
    "### Viewing the dataset"
   ]
  },
  {
   "cell_type": "code",
   "execution_count": null,
   "id": "d9a8665a",
   "metadata": {},
   "outputs": [],
   "source": [
    "original_data.head(10)"
   ]
  },
  {
   "cell_type": "code",
   "execution_count": null,
   "id": "464944a3",
   "metadata": {},
   "outputs": [],
   "source": [
    "original_data.dtypes"
   ]
  },
  {
   "cell_type": "code",
   "execution_count": null,
   "id": "05c934b4",
   "metadata": {},
   "outputs": [],
   "source": [
    "original_data.shape"
   ]
  },
  {
   "cell_type": "code",
   "execution_count": null,
   "id": "e6e49d2e",
   "metadata": {},
   "outputs": [],
   "source": [
    "classes_distribution(original_data)"
   ]
  },
  {
   "cell_type": "code",
   "execution_count": null,
   "id": "4e3fd75c",
   "metadata": {},
   "outputs": [],
   "source": [
    "missing_values_table(original_data) #Print table that shows the missing values\n",
    "original_data.isnull().sum() #Total missing values per attribute"
   ]
  },
  {
   "cell_type": "code",
   "execution_count": null,
   "id": "db25f8ad",
   "metadata": {},
   "outputs": [],
   "source": [
    "#Shows a simple visualization of nullity by column\n",
    "width = 15 #Graph width\n",
    "height = 2.5 #Graph heigth\n",
    "missing_values_bar_chart(original_data, width, height)"
   ]
  },
  {
   "cell_type": "code",
   "execution_count": null,
   "id": "37c25d46",
   "metadata": {},
   "outputs": [],
   "source": [
    "#Shows the pattern of missing data (if missing values exist)\n",
    "width = 15 #Graph width\n",
    "height = 5 #Graph heigth\n",
    "nullity_matrix(original_data, width, height)"
   ]
  },
  {
   "cell_type": "code",
   "execution_count": null,
   "id": "058a7afd",
   "metadata": {},
   "outputs": [],
   "source": [
    "#Shows correlation heatmap (if missing values exist)\n",
    "width = 15 #Graph width\n",
    "height = 5 #Graph heigth\n",
    "correlation_heatmap(original_data, width, height)"
   ]
  },
  {
   "cell_type": "markdown",
   "id": "8ef0ff99",
   "metadata": {},
   "source": [
    "# Generate missing values with multivariate amputation (https://rianneschouten.github.io/mice_ampute/vignette/ampute.html#Introduction_to_mice::ampute)"
   ]
  },
  {
   "cell_type": "markdown",
   "id": "477fe0ed",
   "metadata": {},
   "source": [
    "To generate the missing values under MCAR, MAR and MNAR mechanism, the MICE Ampute was used. For more information, see:\n",
    "\n",
    "SCHOUTEN, R. M.; LUGTIG, P.; VINK, G. Generating missing values for simulation purposes: a multivariate amputation procedure. Journal of Statistical Computation and Simulation, Taylor Francis, v. 88, n. 15, p. 2909–2930, 2018.\n",
    "Available in: <https://doi.org/10.1080/00949655.2018.1491577>."
   ]
  },
  {
   "cell_type": "markdown",
   "id": "6212f24c",
   "metadata": {},
   "source": [
    "The \"prop\" argument specifies the proportion of incomplete instances:\n",
    "\n",
    "- prop = 0.1 -> 10% of instances with a missing attribute\n",
    "- prop = 0.2 -> 20% of instances with a missing attribute\n",
    "- prop = 0.3 -> 30% of instances with a missing attribute\n",
    "- and so on"
   ]
  },
  {
   "cell_type": "code",
   "execution_count": null,
   "id": "130590fc",
   "metadata": {},
   "outputs": [],
   "source": [
    "# Get the dataset file\n",
    "prop = float(input('Enter the proportion of missing values: '))"
   ]
  },
  {
   "cell_type": "markdown",
   "id": "2e0a852d",
   "metadata": {},
   "source": [
    "Before starting the generation of missings, let's remove the first column (first attribute) from the database. This is required for the regression-based missing mechanism identification method to work."
   ]
  },
  {
   "cell_type": "code",
   "execution_count": null,
   "id": "0707d7c4",
   "metadata": {},
   "outputs": [],
   "source": [
    "X_old = X #Make a X copy\n",
    "X_first_column = X.iloc[:,0] #Get the first attribute\n",
    "X = X.iloc[:,1:] #Get the other attributes"
   ]
  },
  {
   "cell_type": "markdown",
   "id": "e950bcd3",
   "metadata": {},
   "source": [
    "### Generate MCAR data"
   ]
  },
  {
   "cell_type": "code",
   "execution_count": null,
   "id": "c8b6f63e",
   "metadata": {},
   "outputs": [],
   "source": [
    "#MCAR data\n",
    "#%run missing_data_generation/missing_values_generator.ipynb\n",
    "data_mcar_df = data_ampute(X, prop = prop, mech = \"MCAR\") #Call ampute data function\n",
    "\n",
    "data_mcar_df = pd.concat([X_first_column, data_mcar_df.set_index(X_first_column.index) ], axis=1) #Join the first column, without missings, with all the others\n",
    "\n",
    "print(\"Original data amount: \", X.shape[0]*X.shape[1])\n",
    "data_mcar_amputed = data_mcar_df.isnull().sum().sum()\n",
    "data_mcar_amputed_per = ((data_mcar_df.isnull().sum().sum())/(X.shape[0]*X.shape[1]))*100\n",
    "print(\"Missing data amount (dataset amputed): \", data_mcar_amputed)\n",
    "print(\"Percentage of missing data generated: \", data_mcar_amputed_per , \"%\")"
   ]
  },
  {
   "cell_type": "markdown",
   "id": "dcc0fd15",
   "metadata": {},
   "source": [
    "### Generate MAR data"
   ]
  },
  {
   "cell_type": "code",
   "execution_count": null,
   "id": "c5c63db5",
   "metadata": {
    "scrolled": false
   },
   "outputs": [],
   "source": [
    "#Generate MAR data\n",
    "#%run missing_data_generation/missing_values_generator.ipynb\n",
    "data_mar_df = data_ampute(X, prop = prop, mech = \"MAR\") #Call ampute data function\n",
    "\n",
    "data_mar_df = pd.concat([X_first_column, data_mar_df.set_index(X_first_column.index) ], axis=1) #Join the first column, without missings, with all the others\n",
    "\n",
    "print(\"Original data amount: \", X.shape[0]*X.shape[1])\n",
    "data_mar_amputed = data_mar_df.isnull().sum().sum()\n",
    "data_mar_amputed_per = ((data_mar_df.isnull().sum().sum())/(X.shape[0]*X.shape[1]))*100\n",
    "print(\"Missing data amount (dataset amputed): \", data_mar_amputed)\n",
    "print(\"Percentage of missing data generated: \", data_mar_amputed_per , \"%\")"
   ]
  },
  {
   "cell_type": "markdown",
   "id": "dca21b19",
   "metadata": {},
   "source": [
    "### Generate MNAR data"
   ]
  },
  {
   "cell_type": "code",
   "execution_count": null,
   "id": "08d8ec7e",
   "metadata": {},
   "outputs": [],
   "source": [
    "#Generate MAR data\n",
    "data_mnar_df = data_ampute(X, prop = prop, mech = \"MNAR\") #Call ampute data function\n",
    "\n",
    "data_mnar_df = pd.concat([X_first_column, data_mnar_df.set_index(X_first_column.index) ], axis=1) #Join the first column, without missings, with all the others\n",
    "\n",
    "print(\"Original data amount: \", X.shape[0]*X.shape[1])\n",
    "data_mnar_amputed = data_mnar_df.isnull().sum().sum()\n",
    "data_mnar_amputed_per = ((data_mnar_df.isnull().sum().sum())/(X.shape[0]*X.shape[1]))*100\n",
    "print(\"Missing data amount (dataset amputed): \", data_mnar_amputed)\n",
    "print(\"Percentage of missing data generated: \", data_mnar_amputed_per , \"%\")"
   ]
  },
  {
   "cell_type": "markdown",
   "id": "dbd05acb",
   "metadata": {},
   "source": [
    "# Missing Mechanism Detection"
   ]
  },
  {
   "cell_type": "markdown",
   "id": "2baf99a3",
   "metadata": {},
   "source": [
    "### Missing Mechanism Detection with Little´s test"
   ]
  },
  {
   "cell_type": "markdown",
   "id": "f82bc372",
   "metadata": {},
   "source": [
    "This code, based on the Little´s test, will evaluate whether the datasets with missing values generated in the MCAR, MAR and MNAR mechanisms, are MCAR or not. But like all tests of assumptions, it’s not definitive. So run it, but use it as only one piece of information. \n",
    "\n",
    "For more information, see:\n",
    "\n",
    "LITTLE, R. J. A. A test of missing completely at random for multivariate data with missing values. Journal of the American Statistical Association, Taylor Francis, v. 83, n. 404, p. 1198–1202, 1988. Available in: <https://www.tandfonline.com/doi/abs/10.1080/01621459.1988.10478722>."
   ]
  },
  {
   "cell_type": "code",
   "execution_count": null,
   "id": "ac8ae01c",
   "metadata": {},
   "outputs": [],
   "source": [
    "#Let´s test all of missing data generated\n",
    "#%run missing_mechanism_detection/little_test.ipynb\n",
    "original = True\n",
    "\n",
    "#Test MCAR data\n",
    "if 'data_mcar_df' in globals():\n",
    "    print('--------------Test MCAR Data--------------')\n",
    "    print(little_test(data_mcar_df))\n",
    "    original = False\n",
    "    print('------------------------------------------')\n",
    "\n",
    "#Test MAR data\n",
    "if 'data_mar_df' in globals():\n",
    "    print('--------------Test MAR Data--------------')\n",
    "    print(little_test(data_mar_df))\n",
    "    original = False\n",
    "    print('------------------------------------------')\n",
    "\n",
    "#Test MNAR data\n",
    "if 'data_mnar_df' in globals():\n",
    "    print('--------------Test MNAR Data--------------')\n",
    "    print(little_test(data_mnar_df))\n",
    "    original = False\n",
    "    print('------------------------------------------')\n",
    "if original: \n",
    "    print('--------------Test Original Data--------------')\n",
    "    print(little_test(X))"
   ]
  },
  {
   "cell_type": "markdown",
   "id": "edfe52e3",
   "metadata": {},
   "source": [
    "### Missing Mechanism Detection with Dixon´s Test"
   ]
  },
  {
   "cell_type": "markdown",
   "id": "aa35b1cb",
   "metadata": {},
   "source": [
    "This code, based on the Dixon´s test, will evaluate whether the datasets with missing values generated in the MCAR, MAR and MNAR mechanisms, are MCAR or not. But like all tests of assumptions, it’s not definitive. So run it, but use it as only one piece of information. \n",
    "\n",
    "For more information, see:\n",
    "\n",
    "Dixon, W.J. BMDP Statistical Software Manual: To Accompany the 1990 Software Release; University of California Press: Oakland, CA, USA, 1990; Volume 1."
   ]
  },
  {
   "cell_type": "code",
   "execution_count": null,
   "id": "b8972f76",
   "metadata": {},
   "outputs": [],
   "source": [
    "#Let´s test all of missing data generated\n",
    "#%run missing_mechanism_detection/dixon_test.ipynb\n",
    "original = True\n",
    "\n",
    "#Test MCAR data\n",
    "if 'data_mcar_df' in globals():\n",
    "    print('--------------Test MCAR Data--------------')\n",
    "    result = dixon_test(data_mcar_df)\n",
    "    if (len(result) > 1):\n",
    "        print(result[0], \"Confidence: \", result[1])\n",
    "    else:\n",
    "        print(result[0])\n",
    "    original = False\n",
    "    print('------------------------------------------')\n",
    "\n",
    "#Test MAR data\n",
    "if 'data_mar_df' in globals():\n",
    "    print('--------------Test MAR Data--------------')\n",
    "    result = dixon_test(data_mar_df)\n",
    "    if (len(result) > 1):\n",
    "        print(result[0], \"Confidence: \", result[1])\n",
    "    else:\n",
    "        print(result[0])\n",
    "    original = False\n",
    "    print('------------------------------------------')\n",
    "\n",
    "#Test MNAR data\n",
    "if 'data_mnar_df' in globals():\n",
    "    print('--------------Test MNAR Data--------------')\n",
    "    result = dixon_test(data_mnar_df)\n",
    "    if (len(result) > 1):\n",
    "        print(result[0], \"Confidence: \", result[1])\n",
    "    else:\n",
    "        print(result[0])    \n",
    "    original = False\n",
    "    print('------------------------------------------')\n",
    "\n",
    "if original: \n",
    "    print('--------------Test Original Data--------------')\n",
    "\n",
    "    result = dixon_test(X)\n",
    "    if (len(result) > 1):\n",
    "        print(result[0], \"Confidence: \", result[1])\n",
    "    else:\n",
    "        print(result[0])\n"
   ]
  },
  {
   "cell_type": "markdown",
   "id": "262eb448",
   "metadata": {},
   "source": [
    "### Missing Mechanism Detection with MCAR Homoscedasticity Test"
   ]
  },
  {
   "cell_type": "markdown",
   "id": "c971422a",
   "metadata": {},
   "source": [
    "This code, based on the Homoscedasticity´s test, will evaluate whether the datasets with missing values generated in the MCAR, MAR and MNAR mechanisms, are MCAR or not. But like all tests of assumptions, it’s not definitive. So run it, but use it as only one piece of information. \n",
    "\n",
    "For more information, see:\n",
    "\n",
    "JAMSHIDIAN, M.; JALAL, S. Tests of homoscedasticity, normality, and missing completely at random for incomplete multivariate data. Psychometrika 2010, 75, 649–674."
   ]
  },
  {
   "cell_type": "code",
   "execution_count": null,
   "id": "7cb2a0af",
   "metadata": {},
   "outputs": [],
   "source": [
    "#Let´s test all of missing data generated\n",
    "#%run missing_mechanism_detection/homoscedasticity_test.ipynb\n",
    "original = True\n",
    "\n",
    "#Test MCAR data\n",
    "if 'data_mcar_df' in globals():\n",
    "    print('--------------Test MCAR Data--------------')\n",
    "    print(homoscedasticity_test(data_mcar_df))\n",
    "    original = False\n",
    "    print('------------------------------------------')\n",
    "\n",
    "#Test MAR data\n",
    "if 'data_mar_df' in globals():\n",
    "    print('--------------Test MAR Data--------------')\n",
    "    print(homoscedasticity_test(data_mar_df))\n",
    "    original = False\n",
    "    print('------------------------------------------')\n",
    "\n",
    "#Test MNAR data\n",
    "if 'data_mnar_df' in globals():\n",
    "    print('--------------Test MNAR Data--------------')\n",
    "    print(homoscedasticity_test(data_mnar_df))\n",
    "    original = False\n",
    "    print('------------------------------------------')\n",
    "if original: \n",
    "    print('--------------Test Original Data--------------')\n",
    "    print(homoscedasticity_test(X))\n",
    "\n"
   ]
  },
  {
   "cell_type": "markdown",
   "id": "fbb2483b",
   "metadata": {},
   "source": [
    "### Missing Mechanism Detection with Regression-Based´s Test"
   ]
  },
  {
   "cell_type": "markdown",
   "id": "c443faa4",
   "metadata": {},
   "source": [
    "This code, based on the RB´s test, will evaluate whether the datasets with missing values generated in the MCAR, MAR and MNAR mechanisms, are MAR or not.  This test also can be used to check MCAR mechanism, but in this context we will just check MAR mechanism. But like all tests of assumptions, it’s not definitive. So run it, but use it as only one piece of information. \n",
    "\n",
    "For more information, see:\n",
    "\n",
    "Rouzinov, S.; Berchtold, A. Regression-Based Approach to Test Missing Data Mechanisms. Data 2022, 7, 16. https://doi.org/10.3390/data7020016\n",
    "\n",
    "The method returns a vector of the same length than the number of variables of the dataset, where '0' is for variables with MCAR data, '1' is for variables with MAR data and '-1' is for complete variables.\n"
   ]
  },
  {
   "cell_type": "code",
   "execution_count": null,
   "id": "5629754c",
   "metadata": {},
   "outputs": [],
   "source": [
    "#Let´s test all of missing data generated\n",
    "%run missing_mechanism_detection/rb_test.ipynb\n",
    "original = True\n",
    "\n",
    "#Test MCAR data\n",
    "if 'data_mcar_df' in globals():\n",
    "    print('--------------Test MCAR Data--------------')\n",
    "    print(rb_test(data_mcar_df))\n",
    "    original = False\n",
    "    print('------------------------------------------')\n",
    "\n",
    "#Test MAR data\n",
    "if 'data_mar_df' in globals():\n",
    "    print('--------------Test MAR Data--------------')\n",
    "    print(rb_test(data_mar_df))\n",
    "    original = False\n",
    "    print('------------------------------------------')\n",
    "\n",
    "#Test MNAR data\n",
    "if 'data_mnar_df' in globals():\n",
    "    print('--------------Test MNAR Data--------------')\n",
    "    print(rb_test(data_mnar_df))\n",
    "    original = False\n",
    "    print('------------------------------------------')\n",
    "\n",
    "if original: \n",
    "    print('--------------Test Original Data--------------')\n",
    "    print(rb_test(X))"
   ]
  },
  {
   "cell_type": "markdown",
   "id": "7343e444",
   "metadata": {},
   "source": [
    "# Imputation Missing Values Mechanisms"
   ]
  },
  {
   "attachments": {
    "metodos.jpg": {
     "image/jpeg": "[encoded data removed]"
    }
   },
   "cell_type": "markdown",
   "id": "72f91707",
   "metadata": {},
   "source": [
    "You can choose the following imputation methods: (1) Mean (2) KNN (3) MissForest (4) Multiple Imputation (5) KMeans (6) Regression (7) GAIN \n",
    "\n",
    "The table below shows a small comparison between the methods:\n",
    "\n",
    "![metodos.jpg](attachment:metodos.jpg)\n"
   ]
  },
  {
   "cell_type": "code",
   "execution_count": null,
   "id": "e090cb88",
   "metadata": {},
   "outputs": [],
   "source": [
    "method = input('Choose the number of imputation method: (1) Mean (2) KNN (3) MissForest (4) Multiple Imputation (5) KMeans (6) Regression (7) GAIN: (8) Copula-EM: ')"
   ]
  },
  {
   "cell_type": "code",
   "execution_count": null,
   "id": "69b253b6",
   "metadata": {},
   "outputs": [],
   "source": [
    "# Sample imputation data -----------------------------------------\n",
    "#%run imputation/imputation_methods.ipynb\n",
    "if (method == '1'):\n",
    "    complete_x = mean_imputation(X) #Complete data with predictive attributes\n",
    "    complete_data = pd.concat([complete_x, y.set_index(complete_x.index) ], axis=1)\n",
    "    imp_name = \"Mean\"\n",
    "if (method == '2'):\n",
    "    complete_x = knn_imputation(X, 10)#Complete data with predictive attributes\n",
    "    complete_data = pd.concat([complete_x, y.set_index(complete_x.index) ], axis=1) \n",
    "    imp_name = \"KNN\"\n",
    "if (method == '3'):\n",
    "    complete_x = missforest_imputation(X)#Complete data with predictive attributes\n",
    "    complete_data = pd.concat([complete_x, y.set_index(complete_x.index) ], axis=1)\n",
    "    imp_name = \"MissForest\"\n",
    "if (method == '4'):\n",
    "    complete_x = multiple_imputation(X, 5)#Complete data with predictive attributes\n",
    "    complete_data = pd.concat([complete_x, y.set_index(complete_x.index) ], axis=1)\n",
    "    imp_name = \"MI\"\n",
    "if (method == '5'):\n",
    "    num_classes = np.size(data_y) #Get the number of classes\n",
    "    complete_x = kmeans_imputation(X, num_classes, 100)#Complete data with predictive attributes\n",
    "    complete_data = pd.concat([complete_x, y.set_index(complete_x.index) ], axis=1)\n",
    "    imp_name = \"KMeans\"        \n",
    "if (method == '6'):\n",
    "    complete_x = regression_imputation(X)#Complete data with predictive attributes\n",
    "    complete_data = pd.concat([complete_x, y.set_index(complete_x.index) ], axis=1)\n",
    "    imp_name = \"Regression\"\n",
    "if (method == '7'):\n",
    "    gain_parameters = {'batch_size': 128,\n",
    "                     'hint_rate': 0.9,\n",
    "                     'alpha': 100,\n",
    "                     'iterations': 1000}\n",
    "    complete_x = gain_imputation(X.values, gain_parameters)#Complete data with predictive attributes\n",
    "    complete_data = pd.concat([pd.DataFrame(complete_x, columns = columns[0:4]), y], axis=1)\n",
    "    imp_name = \"Gain\"\n",
    "    \n",
    "if (method == '8'):\n",
    "    complete_x = copula_imputation(X)#Complete data with predictive attributes\n",
    "    complete_data = pd.concat([complete_x, y.set_index(complete_x.index) ], axis=1)"
   ]
  },
  {
   "cell_type": "markdown",
   "id": "1dd1b9a3",
   "metadata": {},
   "source": [
    "# Classifier Test"
   ]
  },
  {
   "cell_type": "code",
   "execution_count": null,
   "id": "98460128",
   "metadata": {},
   "outputs": [],
   "source": [
    "#Decision Tree Classifier\n",
    "from sklearn.tree import DecisionTreeClassifier\n",
    "%run classifiers/classifiers.ipynb\n",
    "model = DecisionTreeClassifier(criterion = 'entropy', max_depth = 5, max_features = 'auto', min_samples_leaf = 7, min_samples_split = 4, splitter = 'best')\n",
    "if 'complete_data' in globals():\n",
    "    classifiers(model, complete_data, 10, imp_name)\n",
    "else:\n",
    "    classifiers(model, original_data, 10)"
   ]
  },
  {
   "cell_type": "code",
   "execution_count": null,
   "id": "3fdc48bf",
   "metadata": {},
   "outputs": [],
   "source": [
    "#Random Forest Classifier\n",
    "from sklearn.ensemble import RandomForestClassifier\n",
    "%run classifiers/classifiers.ipynb\n",
    "model = RandomForestClassifier(criterion = 'entropy', max_depth = 10, max_features = 'log2', min_samples_leaf = 3, min_samples_split = 4, n_estimators = 150)  \n",
    "\n",
    "if 'complete_data' in globals():\n",
    "    classifiers(model, complete_data, 10, imp_name)\n",
    "else:\n",
    "    classifiers(model, original_data, 10)"
   ]
  },
  {
   "cell_type": "code",
   "execution_count": null,
   "id": "7d957f6c",
   "metadata": {},
   "outputs": [],
   "source": [
    "#MLP Classifier\n",
    "from sklearn.neural_network import MLPClassifier\n",
    "%run classifiers/classifiers.ipynb\n",
    "model = MLPClassifier(activation = 'identity', alpha = 0.0001, hidden_layer_sizes = 15, learning_rate_init = 0.001, max_iter = 700, solver = 'adam')\n",
    "if 'complete_data' in globals():\n",
    "    classifiers(model, complete_data, 10, imp_name)\n",
    "else:\n",
    "    classifiers(model, original_data, 10)\n",
    "\n"
   ]
  },
  {
   "cell_type": "code",
   "execution_count": null,
   "id": "d855c029",
   "metadata": {},
   "outputs": [],
   "source": [
    "#SVM Classifier\n",
    "from sklearn import svm\n",
    "%run classifiers/classifiers.ipynb\n",
    "model = svm.SVC(probability=True, C = 1, coef0 = 0, degree = 1, gamma = 'scale', kernel = 'rbf')    \n",
    "if 'complete_data' in globals():\n",
    "    classifiers(model, complete_data, 10, imp_name)\n",
    "else:\n",
    "    classifiers(model, original_data, 10)"
   ]
  },
  {
   "cell_type": "markdown",
   "id": "e5eb87ae",
   "metadata": {},
   "source": [
    "# RMSE Evaluation"
   ]
  },
  {
   "cell_type": "code",
   "execution_count": null,
   "id": "6344f645",
   "metadata": {},
   "outputs": [],
   "source": [
    "#Let´s RMSE computing\n",
    "%run evaluation/metrics.ipynb\n",
    "original = True\n",
    "\n",
    "#Test amputed MCAR data\n",
    "if 'data_mcar_amputed_per' in globals():\n",
    "    print('------------------------------------------')\n",
    "    print(\"Root Mean Square Error (\" + str(np.round(data_mcar_amputed_per,2)) + \"% missing values): \" + str(rmse(np.array(complete_x), np.array(X))))\n",
    "    original = False\n",
    "    print('------------------------------------------')\n",
    "\n",
    "#Test amputed MAR data\n",
    "if 'data_mar_amputed_per' in globals():\n",
    "    print('------------------------------------------')\n",
    "    print(\"Root Mean Square Error (\" + str(np.round(data_mar_amputed_per,2)) + \"% missing values): \" + str(rmse(np.array(complete_x), np.array(X))))\n",
    "    original = False\n",
    "    print('------------------------------------------')\n",
    "\n",
    "#Test amputed MNAR data\n",
    "if 'data_mnar_amputed_per' in globals():\n",
    "    print('------------------------------------------')\n",
    "    print(\"Root Mean Square Error (\" + str(np.round(data_mnar_amputed_per,2)) + \"% missing values): \" + str(rmse(np.array(complete_x), np.array(X))))\n",
    "    original = False\n",
    "    print('------------------------------------------')\n",
    "\n",
    "if original: \n",
    "    print('------------------------------------------')\n",
    "    print('Data Were Not Amputated')\n",
    "    print('------------------------------------------')"
   ]
  }
 ],
 "metadata": {
  "kernelspec": {
   "display_name": "Python 3",
   "language": "python",
   "name": "python3"
  },
  "language_info": {
   "codemirror_mode": {
    "name": "ipython",
    "version": 3
   },
   "file_extension": ".py",
   "mimetype": "text/x-python",
   "name": "python",
   "nbconvert_exporter": "python",
   "pygments_lexer": "ipython3",
   "version": "3.8.8"
  }
 },
 "nbformat": 4,
 "nbformat_minor": 5
}
