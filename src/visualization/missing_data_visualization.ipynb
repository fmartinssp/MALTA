{
 "cells": [
  {
   "cell_type": "markdown",
   "id": "161e9cd3",
   "metadata": {},
   "source": [
    "# Data Visualization"
   ]
  },
  {
   "cell_type": "code",
   "execution_count": 26,
   "id": "c58f6a02",
   "metadata": {},
   "outputs": [],
   "source": [
    "#Distribution of instances according to classification (label)\n",
    "import matplotlib.pyplot as plt\n",
    "import numpy as np\n",
    "import pandas as pd\n",
    "import missingno as msno\n",
    "%matplotlib inline\n",
    "%config InlineBackend.figure_format='svg'\n",
    "%config InlineBackend.rc={'figure.figsize': (5, 2.5)}\n",
    "\n",
    "def classes_distribution(data):   \n",
    "    class_name = data.columns[-1] #Get name of the last column (class)\n",
    "    plt.rc(\"font\", size=6)\n",
    "    data[class_name].value_counts(sort=False).plot(kind='bar')\n",
    "    plt.xlabel(class_name)\n",
    "    plt.ylabel('score')\n",
    "    plt.show()\n",
    "    \n",
    "#Function that prints a table with the missing values\n",
    "def missing_values_table(data):\n",
    "\n",
    "    # Total missing values\n",
    "    mis_val = data.isnull().sum()\n",
    "\n",
    "    # Percentage of missing values\n",
    "    mis_val_percent = 100 * data.isnull().sum() / len(data)\n",
    "\n",
    "    # Make a table with the results\n",
    "    mis_val_table = pd.concat([mis_val, mis_val_percent], axis=1)\n",
    "\n",
    "    # Rename the columns\n",
    "    mis_val_table_ren_columns = mis_val_table.rename(\n",
    "    columns = {0 : 'Missing Values', 1 : '% of Total Values'})\n",
    "\n",
    "    # Sort the table by percentage of missing descending\n",
    "    mis_val_table_ren_columns = mis_val_table_ren_columns[\n",
    "        mis_val_table_ren_columns.iloc[:,1] != 0].sort_values(\n",
    "    '% of Total Values', ascending=False).round(1)\n",
    "\n",
    "    # Print some summary information\n",
    "    print (\"Your selected dataframe has \" + str(data.shape[1]) + \" columns.\\n\"      \n",
    "        \"There are \" + str(mis_val_table_ren_columns.shape[0]) +\n",
    "          \" columns that have missing values.\")\n",
    "\n",
    "    # Return the dataframe with missing information\n",
    "    return mis_val_table_ren_columns\n",
    "\n",
    "\n",
    "#Function that prints a bar graph with the missing values\n",
    "#The bar graph provides a quick graphical overview of the integrity of the dataset\n",
    "#Is a simple visualization of nullity by column\n",
    "def missing_values_bar_chart(data, width, height):\n",
    "    msno.bar(data, color=\"gray\", figsize=(width,height))\n",
    "\n",
    "#Function that prints the nullity matrix. It shows the pattern of missing data.\n",
    "def nullity_matrix(data, width, height):\n",
    "    msno.matrix(data, figsize=(width,height))\n",
    "    \n",
    "#Function that shows the correlation heatmap it measures nullity correlation\n",
    "'''Nullity correlation ranges from -1 (if one variable appears the other definitely does not) to 0 (variables appearing or \n",
    "not appearing have no effect on one another) to 1 (if one variable appears the other definitely also does).'''\n",
    "def correlation_heatmap(data, width, height):\n",
    "    msno.heatmap(data, figsize=(width, height))\n"
   ]
  },
  {
   "cell_type": "code",
   "execution_count": null,
   "id": "3cc1a7bc",
   "metadata": {},
   "outputs": [],
   "source": []
  }
 ],
 "metadata": {
  "kernelspec": {
   "display_name": "Python 3",
   "language": "python",
   "name": "python3"
  },
  "language_info": {
   "codemirror_mode": {
    "name": "ipython",
    "version": 3
   },
   "file_extension": ".py",
   "mimetype": "text/x-python",
   "name": "python",
   "nbconvert_exporter": "python",
   "pygments_lexer": "ipython3",
   "version": "3.8.8"
  }
 },
 "nbformat": 4,
 "nbformat_minor": 5
}
